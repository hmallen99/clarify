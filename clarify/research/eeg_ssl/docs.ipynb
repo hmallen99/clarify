{
  "nbformat": 4,
  "nbformat_minor": 0,
  "metadata": {
    "colab": {
      "name": "image-fec-docs.ipynb",
      "provenance": [],
      "collapsed_sections": [
        "iPsCYS_l5vu6",
        "Nnxc6LYl50ib",
        "PF12qsZF9Elc",
        "bXVqvjpX9eK9",
        "k4sgx0XX9go4",
        "zBmD56Gu9gvo",
        "D0Ia7rIJ-GAT",
        "S825FgTX-tDO"
      ],
      "authorship_tag": "ABX9TyP7DqzV7LtXjqsyTVqSSRjr",
      "include_colab_link": true
    },
    "kernelspec": {
      "name": "python3",
      "display_name": "Python 3"
    }
  },
  "cells": [
    {
      "cell_type": "markdown",
      "metadata": {
        "id": "view-in-github",
        "colab_type": "text"
      },
      "source": [
        "<a href=\"https://colab.research.google.com/gist/cwbeitel/e38ce9e7b37d2334498bdb965a43d76e/image-fec-docs.ipynb\" target=\"_parent\"><img src=\"https://colab.research.google.com/assets/colab-badge.svg\" alt=\"Open In Colab\"/></a>"
      ]
    },
    {
      "cell_type": "markdown",
      "metadata": {
        "id": "WYivPVKE_tb5",
        "colab_type": "text"
      },
      "source": [
        "# Metaphors of self-supervised learning in the EEG domain\n",
        "\n",
        "Contributors: @cwbeitel"
      ]
    },
    {
      "cell_type": "markdown",
      "metadata": {
        "id": "iPsCYS_l5vu6",
        "colab_type": "text"
      },
      "source": [
        "# Summary"
      ]
    },
    {
      "cell_type": "markdown",
      "metadata": {
        "id": "M0WEW_M56ERQ",
        "colab_type": "text"
      },
      "source": [
        "Here is a good place to have something abstract-like that we progressively update to more fully describe the work. We should keep it clear and accessible, providing only the relevant summary information and avoiding unnecessary erudition or technicality."
      ]
    },
    {
      "cell_type": "markdown",
      "metadata": {
        "id": "Nnxc6LYl50ib",
        "colab_type": "text"
      },
      "source": [
        "# Datasets"
      ]
    },
    {
      "cell_type": "markdown",
      "metadata": {
        "id": "sIVzNy4XXGV3",
        "colab_type": "text"
      },
      "source": [
        "TODO, TUH EEG, related to https://github.com/projectclarify/clarify/issues/162"
      ]
    },
    {
      "cell_type": "markdown",
      "metadata": {
        "id": "hLCj-eVf64cu",
        "colab_type": "text"
      },
      "source": [
        "# Methods"
      ]
    },
    {
      "cell_type": "markdown",
      "metadata": {
        "id": "PF12qsZF9Elc",
        "colab_type": "text"
      },
      "source": [
        "### Learning methods"
      ]
    },
    {
      "cell_type": "markdown",
      "metadata": {
        "id": "Aca0YzqE9Yoh",
        "colab_type": "text"
      },
      "source": [
        "Optimization was performed using the Adafactor optimizer (Shazeer and Stern, 2018) and networks were built with Trax (TODO: citation?) and where relevant were trained on Google Cloud TPUs."
      ]
    },
    {
      "cell_type": "markdown",
      "metadata": {
        "id": "bXVqvjpX9eK9",
        "colab_type": "text"
      },
      "source": [
        "### Networks"
      ]
    },
    {
      "cell_type": "markdown",
      "metadata": {
        "id": "V0VfpU6r9eRS",
        "colab_type": "text"
      },
      "source": [
        "TODO, https://github.com/projectclarify/clarify/issues/125"
      ]
    },
    {
      "cell_type": "code",
      "metadata": {
        "id": "stqeLB2sBrmB",
        "colab_type": "code",
        "colab": {}
      },
      "source": [
        "# Maybe a basic illustration of instantiating the network(s) here."
      ],
      "execution_count": 0,
      "outputs": []
    },
    {
      "cell_type": "markdown",
      "metadata": {
        "id": "cEzWFRsbZrJt",
        "colab_type": "text"
      },
      "source": [
        "### Channel in-painting"
      ]
    },
    {
      "cell_type": "markdown",
      "metadata": {
        "id": "TXHYfcKRZ_Qf",
        "colab_type": "text"
      },
      "source": [
        "TODO, related to https://github.com/projectclarify/clarify/issues/75"
      ]
    },
    {
      "cell_type": "code",
      "metadata": {
        "id": "3WZF8qfoZrVc",
        "colab_type": "code",
        "colab": {}
      },
      "source": [
        ""
      ],
      "execution_count": 0,
      "outputs": []
    },
    {
      "cell_type": "markdown",
      "metadata": {
        "id": "NKez_BqEaf6k",
        "colab_type": "text"
      },
      "source": [
        "## Another SSL problem here"
      ]
    },
    {
      "cell_type": "markdown",
      "metadata": {
        "id": "rbe5wa2wagPv",
        "colab_type": "text"
      },
      "source": [
        "TODO, related to https://github.com/projectclarify/clarify/issues/124"
      ]
    },
    {
      "cell_type": "code",
      "metadata": {
        "id": "42bToIPfagY8",
        "colab_type": "code",
        "colab": {}
      },
      "source": [
        ""
      ],
      "execution_count": 0,
      "outputs": []
    },
    {
      "cell_type": "markdown",
      "metadata": {
        "id": "k4sgx0XX9go4",
        "colab_type": "text"
      },
      "source": [
        "### Data augmentation"
      ]
    },
    {
      "cell_type": "markdown",
      "metadata": {
        "id": "sliOS6kN9gsP",
        "colab_type": "text"
      },
      "source": [
        "TODO, related to https://github.com/projectclarify/clarify/issues/126"
      ]
    },
    {
      "cell_type": "markdown",
      "metadata": {
        "id": "0SFR5XGCCr_s",
        "colab_type": "text"
      },
      "source": [
        "###### Demonstration"
      ]
    },
    {
      "cell_type": "code",
      "metadata": {
        "id": "slJhvggoCsRN",
        "colab_type": "code",
        "colab": {}
      },
      "source": [
        "# TODO: Provide an illustration of means of performing and the result of these\n",
        "# augmentation procedures."
      ],
      "execution_count": 0,
      "outputs": []
    },
    {
      "cell_type": "markdown",
      "metadata": {
        "id": "jlkTCPly68Dr",
        "colab_type": "text"
      },
      "source": [
        "# Experiments"
      ]
    },
    {
      "cell_type": "markdown",
      "metadata": {
        "id": "eveFXpFZ_m7g",
        "colab_type": "text"
      },
      "source": [
        "### Title of first experiment"
      ]
    },
    {
      "cell_type": "markdown",
      "metadata": {
        "id": "0uuL0c1z_p0Z",
        "colab_type": "text"
      },
      "source": [
        "TODO, good to have the experiment you plan to do outlined in advance so you know exactly where you're going with it and why."
      ]
    },
    {
      "cell_type": "markdown",
      "metadata": {
        "id": "bofDDHUrAsqx",
        "colab_type": "text"
      },
      "source": [
        "##### Table N. A table\n",
        "And its table legend."
      ]
    },
    {
      "cell_type": "code",
      "metadata": {
        "id": "PpdfntiKBdpc",
        "colab_type": "code",
        "colab": {}
      },
      "source": [
        "# TODO: Display the table"
      ],
      "execution_count": 0,
      "outputs": []
    },
    {
      "cell_type": "markdown",
      "metadata": {
        "id": "R0oh5TIhBHYR",
        "colab_type": "text"
      },
      "source": [
        "##### Figure N. A figure.\n",
        "And its figure legend."
      ]
    },
    {
      "cell_type": "code",
      "metadata": {
        "id": "ElXZLRIVAtil",
        "colab_type": "code",
        "colab": {}
      },
      "source": [
        "# TODO: Compute the figure."
      ],
      "execution_count": 0,
      "outputs": []
    },
    {
      "cell_type": "markdown",
      "metadata": {
        "id": "K6NICMMFAH7u",
        "colab_type": "text"
      },
      "source": [
        "### Qualitative analysis"
      ]
    },
    {
      "cell_type": "markdown",
      "metadata": {
        "id": "4sH8tCe5AJ8T",
        "colab_type": "text"
      },
      "source": [
        "TODO, related to https://github.com/projectclarify/clarify/issues/65\n"
      ]
    },
    {
      "cell_type": "markdown",
      "metadata": {
        "id": "seXy7UxDAVf1",
        "colab_type": "text"
      },
      "source": [
        "##### Figure N. Qualitative analysis of NNN model. \n"
      ]
    },
    {
      "cell_type": "code",
      "metadata": {
        "id": "_hol4ELl6997",
        "colab_type": "code",
        "colab": {}
      },
      "source": [
        "# TODO: Compute and display QA results"
      ],
      "execution_count": 0,
      "outputs": []
    },
    {
      "cell_type": "markdown",
      "metadata": {
        "id": "rx9CHnveYM3i",
        "colab_type": "text"
      },
      "source": [
        "# Experiential demo"
      ]
    },
    {
      "cell_type": "markdown",
      "metadata": {
        "id": "HbYWGjK-YNTN",
        "colab_type": "text"
      },
      "source": [
        "TODO: This is where we will put the experiential demo, related to https://github.com/projectclarify/clarify/issues/64"
      ]
    },
    {
      "cell_type": "code",
      "metadata": {
        "id": "WKYF-yJVYNc-",
        "colab_type": "code",
        "colab": {}
      },
      "source": [
        ""
      ],
      "execution_count": 0,
      "outputs": []
    },
    {
      "cell_type": "markdown",
      "metadata": {
        "id": "HqdwbHSB6Y0h",
        "colab_type": "text"
      },
      "source": [
        "# Future directions"
      ]
    },
    {
      "cell_type": "markdown",
      "metadata": {
        "id": "wrAg_nnB6cvk",
        "colab_type": "text"
      },
      "source": [
        "TODO, it will be nice to describe what some simple next directions are for this work so that those who want to build upon it have some guidance, e.g. https://github.com/projectclarify/clarify/issues/61 if we don't integrate it into this version."
      ]
    },
    {
      "cell_type": "markdown",
      "metadata": {
        "id": "QVjifsq4HBKZ",
        "colab_type": "text"
      },
      "source": [
        "# References"
      ]
    },
    {
      "cell_type": "markdown",
      "metadata": {
        "id": "6T2QCTL5HBcv",
        "colab_type": "text"
      },
      "source": [
        ""
      ]
    },
    {
      "cell_type": "markdown",
      "metadata": {
        "id": "FoDvpX0ZG-c4",
        "colab_type": "text"
      },
      "source": [
        "# License"
      ]
    },
    {
      "cell_type": "code",
      "metadata": {
        "id": "nz0Iz3xrHAbX",
        "colab_type": "code",
        "colab": {}
      },
      "source": [
        "# Licensed under the Apache License, Version 2.0 (the \"License\")\n",
        "# you may not use this file except in compliance with the License.\n",
        "# You may obtain a copy of the License at\n",
        "\n",
        " https://www.apache.org/licenses/LICENSE-2.0\n",
        "\n",
        "# Unless required by applicable law or agreed to in writing, software\n",
        "# distributed under the License is distributed on an \"AS IS\" BASIS\n",
        "# WITHOUT WARRANTIES OR CONDITIONS OF ANY KIND, either express or implied.\n",
        "# See the License for the specific language governing permissions and\n",
        "# limitations under the License."
      ],
      "execution_count": 0,
      "outputs": []
    }
  ]
}