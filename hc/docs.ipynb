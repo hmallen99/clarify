{
 "cells": [
  {
   "cell_type": "markdown",
   "metadata": {},
   "source": [
    "# hc\n",
    "\n",
    "Components for training models with high-content data (most notably HD-(f)MRI and HD cortical sensing)."
   ]
  },
  {
   "cell_type": "markdown",
   "metadata": {},
   "source": [
    "## Design\n",
    "\n",
    "Documentation on the design of thes components."
   ]
  },
  {
   "cell_type": "code",
   "execution_count": null,
   "metadata": {},
   "outputs": [],
   "source": [
    "# TODO(hekate1)"
   ]
  },
  {
   "cell_type": "markdown",
   "metadata": {},
   "source": [
    "## Setup\n",
    "\n",
    "Installation steps for running the contents of this notebook."
   ]
  },
  {
   "cell_type": "code",
   "execution_count": null,
   "metadata": {},
   "outputs": [],
   "source": [
    "# TODO(cwbeitel)\n",
    "deps = \"https://github.com/projectclarify/clarify/tree/master/tools/get-clarify\"\n",
    "!wget {deps} | python -"
   ]
  },
  {
   "cell_type": "code",
   "execution_count": 4,
   "metadata": {},
   "outputs": [],
   "source": [
    "# This is the right setting for colab and what we'll leave as the\n",
    "# default but feel free to modify to match your system.\n",
    "WORKSPACE_ROOT=\"/content/clarify\""
   ]
  },
  {
   "cell_type": "markdown",
   "metadata": {},
   "source": [
    "## General usage\n",
    "\n",
    "Documentation on the primary means of using these components."
   ]
  },
  {
   "cell_type": "markdown",
   "metadata": {},
   "source": [
    "##### Building"
   ]
  },
  {
   "cell_type": "code",
   "execution_count": null,
   "metadata": {},
   "outputs": [],
   "source": [
    "# TODO(cwbeitel), provisionally:\n",
    "!cd {WORKSPACE_ROOT} && bazel build //hc/..."
   ]
  },
  {
   "cell_type": "markdown",
   "metadata": {},
   "source": [
    "##### Testing"
   ]
  },
  {
   "cell_type": "code",
   "execution_count": null,
   "metadata": {},
   "outputs": [],
   "source": [
    "# Subproject testing\n",
    "# TODO(cwbeitel), provisionally:\n",
    "!cd {WORKSPACE_ROOT} && bazel test //hc/..."
   ]
  },
  {
   "cell_type": "code",
   "execution_count": null,
   "metadata": {},
   "outputs": [],
   "source": [
    "# Integration testing\n",
    "# TODO(cwbeitel), provisionally:\n",
    "!cd {WORKSPACE_ROOT} && bazel test //clarify/..."
   ]
  },
  {
   "cell_type": "markdown",
   "metadata": {},
   "source": [
    "##### Usage in context"
   ]
  },
  {
   "cell_type": "code",
   "execution_count": 6,
   "metadata": {},
   "outputs": [],
   "source": [
    "# TODO(cwbeitel), illustrate a tensor2tensor or tf.Datasets problem\n",
    "# that calls a compiled hc component."
   ]
  },
  {
   "cell_type": "markdown",
   "metadata": {},
   "source": [
    "## Demos\n",
    "\n",
    "Demonstration of usage that illustrate component capabilities and value."
   ]
  },
  {
   "cell_type": "markdown",
   "metadata": {},
   "source": [
    "##### Run the sampler with mock local \"CBT\""
   ]
  },
  {
   "cell_type": "code",
   "execution_count": null,
   "metadata": {},
   "outputs": [],
   "source": [
    "\n",
    "# TODO(hekate1), provisionally something like\n",
    "!cd {WORKSPACE_ROOT} && \\\n",
    "  bazel run --define=mock_cbt=true //hc/sampler -- demo.cfg\n",
    "\n",
    "# resulting in a minor amount of logs illustrating what's happening.\n"
   ]
  },
  {
   "cell_type": "markdown",
   "metadata": {},
   "source": [
    "##### Run the sampler with actual CBT"
   ]
  },
  {
   "cell_type": "code",
   "execution_count": null,
   "metadata": {},
   "outputs": [],
   "source": [
    "\n",
    "# TODO(hekate1), provisionally also something like\n",
    "!cd {WORKSPACE_ROOT} && \\\n",
    "  bazel run //hc/sampler -- demo.cfg\n",
    "\n",
    "# that is the same as the above but with a remote CBT instance.\n"
   ]
  }
 ],
 "metadata": {
  "kernelspec": {
   "display_name": "Python 3",
   "language": "python",
   "name": "python3"
  },
  "language_info": {
   "codemirror_mode": {
    "name": "ipython",
    "version": 3
   },
   "file_extension": ".py",
   "mimetype": "text/x-python",
   "name": "python",
   "nbconvert_exporter": "python",
   "pygments_lexer": "ipython3",
   "version": "3.6.8"
  }
 },
 "nbformat": 4,
 "nbformat_minor": 4
}
